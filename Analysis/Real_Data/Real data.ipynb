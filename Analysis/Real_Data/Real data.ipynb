{
 "cells": [
  {
   "cell_type": "code",
   "execution_count": 1,
   "id": "c5091947",
   "metadata": {},
   "outputs": [],
   "source": [
    "from fastridge import RidgeEM, RidgeLOOCV\n",
    "from RealDataFunction import *\n",
    "from tabulate import tabulate"
   ]
  },
  {
   "cell_type": "code",
   "execution_count": 2,
   "id": "3818dd73",
   "metadata": {},
   "outputs": [],
   "source": [
    "#commented out data file size is too big, thus not included in supplementary material\n",
    "\n",
    "data_files = [('abalone.csv', 'V9'), \n",
    "              ('automobile.csv', 'price'), \n",
    "              ('autompg.csv', 'mpg'),\n",
    "              ('airfoil.csv', 'V6'),\n",
    "              #(\"blog.csv\", 'V281'),\n",
    "              ('bh.csv', 'y'),\n",
    "              #('tomhard.csv', 'V97'),\n",
    "              #('twitter.csv', 'V78'),\n",
    "              ('crime.csv', \"ViolentCrimesPerPop\"),\n",
    "              ('concrete.csv', \"Strength\"),\n",
    "              ('conditionCom.csv', 'gt_c_decay'),\n",
    "              ('conditionTur.csv', 'gt_t_decay'),\n",
    "              ('diabetes.csv', 'Y'),\n",
    "              ('eye.csv', 'y'),\n",
    "              ('facebook.csv', 'Total.Interactions'),\n",
    "              ('forest.csv', 'area'),\n",
    "              ('parkinson_motor.csv', 'motor_UPDRS'),\n",
    "              ('parkinson_total.csv', 'total_UPDRS'),\n",
    "              ('realEstate.csv', 'Y'),\n",
    "              #('slice.csv', 'reference'),\n",
    "              ('student.csv', 'G3'),\n",
    "              ('yacht.csv', 'V7'),\n",
    "              ('ribo.csv', 'Y')\n",
    "             ]\n",
    "\n",
    "X_files = []\n",
    "y_files = []\n",
    "\n",
    "for data_file, target_file in data_files:\n",
    "    X_files.append(data_file)\n",
    "    y_files.append(target_file)"
   ]
  },
  {
   "cell_type": "code",
   "execution_count": 3,
   "id": "f699a9a8",
   "metadata": {},
   "outputs": [
    {
     "name": "stdout",
     "output_type": "stream",
     "text": [
      "abalone\n",
      ".0123456789101112131415161718192021222324252627282930313233343536373839404142434445464748495051525354555657585960616263646566676869707172737475767778798081828384858687888990919293949596979899"
     ]
    },
    {
     "name": "stderr",
     "output_type": "stream",
     "text": [
      "C:\\Users\\sytew2\\Anaconda3\\lib\\site-packages\\numpy\\core\\fromnumeric.py:3440: RuntimeWarning: Mean of empty slice.\n",
      "  return _methods._mean(a, axis=axis, dtype=dtype,\n",
      "C:\\Users\\sytew2\\Anaconda3\\lib\\site-packages\\numpy\\core\\_methods.py:189: RuntimeWarning: invalid value encountered in double_scalars\n",
      "  ret = ret.dtype.type(ret / rcount)\n"
     ]
    },
    {
     "name": "stdout",
     "output_type": "stream",
     "text": [
      "automobile\n",
      ".0123456789101112131415161718192021222324252627282930313233343536373839404142434445464748495051525354555657585960616263646566676869707172737475767778798081828384858687888990919293949596979899"
     ]
    },
    {
     "name": "stderr",
     "output_type": "stream",
     "text": [
      "C:\\Users\\sytew2\\Anaconda3\\lib\\site-packages\\numpy\\core\\fromnumeric.py:3440: RuntimeWarning: Mean of empty slice.\n",
      "  return _methods._mean(a, axis=axis, dtype=dtype,\n",
      "C:\\Users\\sytew2\\Anaconda3\\lib\\site-packages\\numpy\\core\\_methods.py:189: RuntimeWarning: invalid value encountered in double_scalars\n",
      "  ret = ret.dtype.type(ret / rcount)\n"
     ]
    },
    {
     "name": "stdout",
     "output_type": "stream",
     "text": [
      "autompg\n",
      ".0123456789101112131415161718192021222324252627282930313233343536373839404142434445464748495051525354555657585960616263646566676869707172737475767778798081828384858687888990919293949596979899airfoil\n",
      ".0"
     ]
    },
    {
     "name": "stderr",
     "output_type": "stream",
     "text": [
      "C:\\Users\\sytew2\\Anaconda3\\lib\\site-packages\\numpy\\core\\fromnumeric.py:3440: RuntimeWarning: Mean of empty slice.\n",
      "  return _methods._mean(a, axis=axis, dtype=dtype,\n",
      "C:\\Users\\sytew2\\Anaconda3\\lib\\site-packages\\numpy\\core\\_methods.py:189: RuntimeWarning: invalid value encountered in double_scalars\n",
      "  ret = ret.dtype.type(ret / rcount)\n"
     ]
    },
    {
     "name": "stdout",
     "output_type": "stream",
     "text": [
      "123456789101112131415161718192021222324252627282930313233343536373839404142434445464748495051525354555657585960616263646566676869707172737475767778798081828384858687888990919293949596979899"
     ]
    },
    {
     "name": "stderr",
     "output_type": "stream",
     "text": [
      "C:\\Users\\sytew2\\Anaconda3\\lib\\site-packages\\numpy\\core\\fromnumeric.py:3440: RuntimeWarning: Mean of empty slice.\n",
      "  return _methods._mean(a, axis=axis, dtype=dtype,\n",
      "C:\\Users\\sytew2\\Anaconda3\\lib\\site-packages\\numpy\\core\\_methods.py:189: RuntimeWarning: invalid value encountered in double_scalars\n",
      "  ret = ret.dtype.type(ret / rcount)\n"
     ]
    },
    {
     "name": "stdout",
     "output_type": "stream",
     "text": [
      "bh\n",
      ".0123456789101112131415161718192021222324252627282930313233343536373839404142434445464748495051525354555657585960616263646566676869707172737475767778798081828384858687888990919293949596979899"
     ]
    },
    {
     "name": "stderr",
     "output_type": "stream",
     "text": [
      "C:\\Users\\sytew2\\Anaconda3\\lib\\site-packages\\numpy\\core\\fromnumeric.py:3440: RuntimeWarning: Mean of empty slice.\n",
      "  return _methods._mean(a, axis=axis, dtype=dtype,\n",
      "C:\\Users\\sytew2\\Anaconda3\\lib\\site-packages\\numpy\\core\\_methods.py:189: RuntimeWarning: invalid value encountered in double_scalars\n",
      "  ret = ret.dtype.type(ret / rcount)\n"
     ]
    },
    {
     "name": "stdout",
     "output_type": "stream",
     "text": [
      "crime\n",
      ".0123456789101112131415161718192021222324252627282930313233343536373839404142434445464748495051525354555657585960616263646566676869707172737475767778798081828384858687888990919293949596979899"
     ]
    },
    {
     "name": "stderr",
     "output_type": "stream",
     "text": [
      "C:\\Users\\sytew2\\Anaconda3\\lib\\site-packages\\numpy\\core\\fromnumeric.py:3440: RuntimeWarning: Mean of empty slice.\n",
      "  return _methods._mean(a, axis=axis, dtype=dtype,\n",
      "C:\\Users\\sytew2\\Anaconda3\\lib\\site-packages\\numpy\\core\\_methods.py:189: RuntimeWarning: invalid value encountered in double_scalars\n",
      "  ret = ret.dtype.type(ret / rcount)\n"
     ]
    },
    {
     "name": "stdout",
     "output_type": "stream",
     "text": [
      "concrete\n",
      ".0123456789101112131415161718192021222324252627282930313233343536373839404142434445464748495051525354555657585960616263646566676869707172737475767778798081828384858687888990919293949596979899conditionCom\n",
      ".0"
     ]
    },
    {
     "name": "stderr",
     "output_type": "stream",
     "text": [
      "C:\\Users\\sytew2\\Anaconda3\\lib\\site-packages\\numpy\\core\\fromnumeric.py:3440: RuntimeWarning: Mean of empty slice.\n",
      "  return _methods._mean(a, axis=axis, dtype=dtype,\n",
      "C:\\Users\\sytew2\\Anaconda3\\lib\\site-packages\\numpy\\core\\_methods.py:189: RuntimeWarning: invalid value encountered in double_scalars\n",
      "  ret = ret.dtype.type(ret / rcount)\n"
     ]
    },
    {
     "name": "stdout",
     "output_type": "stream",
     "text": [
      "123456789101112131415161718192021222324252627282930313233343536373839404142434445464748495051525354555657585960616263646566676869707172737475767778798081828384858687888990919293949596979899"
     ]
    },
    {
     "name": "stderr",
     "output_type": "stream",
     "text": [
      "C:\\Users\\sytew2\\Anaconda3\\lib\\site-packages\\numpy\\core\\fromnumeric.py:3440: RuntimeWarning: Mean of empty slice.\n",
      "  return _methods._mean(a, axis=axis, dtype=dtype,\n",
      "C:\\Users\\sytew2\\Anaconda3\\lib\\site-packages\\numpy\\core\\_methods.py:189: RuntimeWarning: invalid value encountered in double_scalars\n",
      "  ret = ret.dtype.type(ret / rcount)\n"
     ]
    },
    {
     "name": "stdout",
     "output_type": "stream",
     "text": [
      "conditionTur\n",
      ".0123456789101112131415161718192021222324252627282930313233343536373839404142434445464748495051525354555657585960616263646566676869707172737475767778798081828384858687888990919293949596979899diabetes\n",
      ".0"
     ]
    },
    {
     "name": "stderr",
     "output_type": "stream",
     "text": [
      "C:\\Users\\sytew2\\Anaconda3\\lib\\site-packages\\numpy\\core\\fromnumeric.py:3440: RuntimeWarning: Mean of empty slice.\n",
      "  return _methods._mean(a, axis=axis, dtype=dtype,\n",
      "C:\\Users\\sytew2\\Anaconda3\\lib\\site-packages\\numpy\\core\\_methods.py:189: RuntimeWarning: invalid value encountered in double_scalars\n",
      "  ret = ret.dtype.type(ret / rcount)\n"
     ]
    },
    {
     "name": "stdout",
     "output_type": "stream",
     "text": [
      "123456789101112131415161718192021222324252627282930313233343536373839404142434445464748495051525354555657585960616263646566676869707172737475767778798081828384858687888990919293949596979899eye\n",
      ".0"
     ]
    },
    {
     "name": "stderr",
     "output_type": "stream",
     "text": [
      "C:\\Users\\sytew2\\Anaconda3\\lib\\site-packages\\numpy\\core\\fromnumeric.py:3440: RuntimeWarning: Mean of empty slice.\n",
      "  return _methods._mean(a, axis=axis, dtype=dtype,\n",
      "C:\\Users\\sytew2\\Anaconda3\\lib\\site-packages\\numpy\\core\\_methods.py:189: RuntimeWarning: invalid value encountered in double_scalars\n",
      "  ret = ret.dtype.type(ret / rcount)\n"
     ]
    },
    {
     "name": "stdout",
     "output_type": "stream",
     "text": [
      "123456789101112131415161718192021222324252627282930313233343536373839404142434445464748495051525354555657585960616263646566676869707172737475767778798081828384858687888990919293949596979899facebook\n",
      ".0"
     ]
    },
    {
     "name": "stderr",
     "output_type": "stream",
     "text": [
      "C:\\Users\\sytew2\\Anaconda3\\lib\\site-packages\\numpy\\core\\fromnumeric.py:3440: RuntimeWarning: Mean of empty slice.\n",
      "  return _methods._mean(a, axis=axis, dtype=dtype,\n",
      "C:\\Users\\sytew2\\Anaconda3\\lib\\site-packages\\numpy\\core\\_methods.py:189: RuntimeWarning: invalid value encountered in double_scalars\n",
      "  ret = ret.dtype.type(ret / rcount)\n"
     ]
    },
    {
     "name": "stdout",
     "output_type": "stream",
     "text": [
      "123456789101112131415161718192021222324252627282930313233343536373839404142434445464748495051525354555657585960616263646566676869707172737475767778798081828384858687888990919293949596979899"
     ]
    },
    {
     "name": "stderr",
     "output_type": "stream",
     "text": [
      "C:\\Users\\sytew2\\Anaconda3\\lib\\site-packages\\numpy\\core\\fromnumeric.py:3440: RuntimeWarning: Mean of empty slice.\n",
      "  return _methods._mean(a, axis=axis, dtype=dtype,\n",
      "C:\\Users\\sytew2\\Anaconda3\\lib\\site-packages\\numpy\\core\\_methods.py:189: RuntimeWarning: invalid value encountered in double_scalars\n",
      "  ret = ret.dtype.type(ret / rcount)\n"
     ]
    },
    {
     "name": "stdout",
     "output_type": "stream",
     "text": [
      "forest\n",
      ".0123456789101112131415161718192021222324252627282930313233343536373839404142434445464748495051525354555657585960616263646566676869707172737475767778798081828384858687888990919293949596979899"
     ]
    },
    {
     "name": "stderr",
     "output_type": "stream",
     "text": [
      "C:\\Users\\sytew2\\Anaconda3\\lib\\site-packages\\numpy\\core\\fromnumeric.py:3440: RuntimeWarning: Mean of empty slice.\n",
      "  return _methods._mean(a, axis=axis, dtype=dtype,\n",
      "C:\\Users\\sytew2\\Anaconda3\\lib\\site-packages\\numpy\\core\\_methods.py:189: RuntimeWarning: invalid value encountered in double_scalars\n",
      "  ret = ret.dtype.type(ret / rcount)\n"
     ]
    },
    {
     "name": "stdout",
     "output_type": "stream",
     "text": [
      "parkinson_motor\n",
      ".0123456789101112131415161718192021222324252627282930313233343536373839404142434445464748495051525354555657585960616263646566676869707172737475767778798081828384858687888990919293949596979899"
     ]
    },
    {
     "name": "stderr",
     "output_type": "stream",
     "text": [
      "C:\\Users\\sytew2\\Anaconda3\\lib\\site-packages\\numpy\\core\\fromnumeric.py:3440: RuntimeWarning: Mean of empty slice.\n",
      "  return _methods._mean(a, axis=axis, dtype=dtype,\n",
      "C:\\Users\\sytew2\\Anaconda3\\lib\\site-packages\\numpy\\core\\_methods.py:189: RuntimeWarning: invalid value encountered in double_scalars\n",
      "  ret = ret.dtype.type(ret / rcount)\n"
     ]
    },
    {
     "name": "stdout",
     "output_type": "stream",
     "text": [
      "parkinson_total\n",
      ".0123456789101112131415161718192021222324252627282930313233343536373839404142434445464748495051525354555657585960616263646566676869707172737475767778798081828384858687888990919293949596979899realEstate\n",
      ".0"
     ]
    },
    {
     "name": "stderr",
     "output_type": "stream",
     "text": [
      "C:\\Users\\sytew2\\Anaconda3\\lib\\site-packages\\numpy\\core\\fromnumeric.py:3440: RuntimeWarning: Mean of empty slice.\n",
      "  return _methods._mean(a, axis=axis, dtype=dtype,\n",
      "C:\\Users\\sytew2\\Anaconda3\\lib\\site-packages\\numpy\\core\\_methods.py:189: RuntimeWarning: invalid value encountered in double_scalars\n",
      "  ret = ret.dtype.type(ret / rcount)\n"
     ]
    },
    {
     "name": "stdout",
     "output_type": "stream",
     "text": [
      "123456789101112131415161718192021222324252627282930313233343536373839404142434445464748495051525354555657585960616263646566676869707172737475767778798081828384858687888990919293949596979899student\n",
      ".0"
     ]
    },
    {
     "name": "stderr",
     "output_type": "stream",
     "text": [
      "C:\\Users\\sytew2\\Anaconda3\\lib\\site-packages\\numpy\\core\\fromnumeric.py:3440: RuntimeWarning: Mean of empty slice.\n",
      "  return _methods._mean(a, axis=axis, dtype=dtype,\n",
      "C:\\Users\\sytew2\\Anaconda3\\lib\\site-packages\\numpy\\core\\_methods.py:189: RuntimeWarning: invalid value encountered in double_scalars\n",
      "  ret = ret.dtype.type(ret / rcount)\n"
     ]
    },
    {
     "name": "stdout",
     "output_type": "stream",
     "text": [
      "123456789101112131415161718192021222324252627282930313233343536373839404142434445464748495051525354555657585960616263646566676869707172737475767778798081828384858687888990919293949596979899yacht\n",
      ".0"
     ]
    },
    {
     "name": "stderr",
     "output_type": "stream",
     "text": [
      "C:\\Users\\sytew2\\Anaconda3\\lib\\site-packages\\numpy\\core\\fromnumeric.py:3440: RuntimeWarning: Mean of empty slice.\n",
      "  return _methods._mean(a, axis=axis, dtype=dtype,\n",
      "C:\\Users\\sytew2\\Anaconda3\\lib\\site-packages\\numpy\\core\\_methods.py:189: RuntimeWarning: invalid value encountered in double_scalars\n",
      "  ret = ret.dtype.type(ret / rcount)\n"
     ]
    },
    {
     "name": "stdout",
     "output_type": "stream",
     "text": [
      "123456789101112131415161718192021222324252627282930313233343536373839404142434445464748495051525354555657585960616263646566676869707172737475767778798081828384858687888990919293949596979899"
     ]
    },
    {
     "name": "stderr",
     "output_type": "stream",
     "text": [
      "C:\\Users\\sytew2\\Anaconda3\\lib\\site-packages\\numpy\\core\\fromnumeric.py:3440: RuntimeWarning: Mean of empty slice.\n",
      "  return _methods._mean(a, axis=axis, dtype=dtype,\n",
      "C:\\Users\\sytew2\\Anaconda3\\lib\\site-packages\\numpy\\core\\_methods.py:189: RuntimeWarning: invalid value encountered in double_scalars\n",
      "  ret = ret.dtype.type(ret / rcount)\n"
     ]
    },
    {
     "name": "stdout",
     "output_type": "stream",
     "text": [
      "ribo\n",
      ".0123456789101112131415161718192021222324252627282930313233343536373839404142434445464748495051525354555657585960616263646566676869707172737475767778798081828384858687888990919293949596979899"
     ]
    },
    {
     "name": "stderr",
     "output_type": "stream",
     "text": [
      "C:\\Users\\sytew2\\Anaconda3\\lib\\site-packages\\numpy\\core\\fromnumeric.py:3440: RuntimeWarning: Mean of empty slice.\n",
      "  return _methods._mean(a, axis=axis, dtype=dtype,\n",
      "C:\\Users\\sytew2\\Anaconda3\\lib\\site-packages\\numpy\\core\\_methods.py:189: RuntimeWarning: invalid value encountered in double_scalars\n",
      "  ret = ret.dtype.type(ret / rcount)\n"
     ]
    }
   ],
   "source": [
    "estimators = {'EM': RidgeEM(squareU = False),\n",
    "              'CV_glm': RidgeLOOCV(alphas=100),\n",
    "              'CV_fix': RidgeLOOCV(alphas=np.logspace(-10, 10, 100, endpoint=True, base=10))}\n",
    "\n",
    "X_files = [\".\\\\Datasets\\\\\" + item for item in X_files]\n",
    "\n",
    "#to run results to include the second and third polynomial, add the parameter \"polynomial = 2\" or \"polynomial = 3\" as such: \n",
    "# RealDataExperiments(X_files, y_files, estimators, n_iterations=100, seed = 123, polynomial = 2)\n",
    "\n",
    "#and if it's for classification use -> \"classification = True\"\n",
    "\n",
    "results = RealDataExperiments(X_files, y_files, estimators, n_iterations=100, seed = 123)\n",
    "\n"
   ]
  },
  {
   "cell_type": "code",
   "execution_count": 4,
   "id": "87366deb",
   "metadata": {},
   "outputs": [
    {
     "name": "stdout",
     "output_type": "stream",
     "text": [
      "+-----------------+-------+----------+----------+------------------+---------+-----------+--------+\n",
      "|                 |    EM |   CV_glm |   CV_fix |   Speed Up Ratio |       p |   n_train |    n:p |\n",
      "|-----------------+-------+----------+----------+------------------+---------+-----------+--------|\n",
      "| conditionCom    |  0.84 |     0.84 |     0.84 |            11.56 |   13.00 |   8353.00 | 642.54 |\n",
      "| conditionTur    |  0.91 |     0.91 |     0.91 |            11.64 |   13.00 |   8353.00 | 642.54 |\n",
      "| parkinson_total |  0.17 |     0.17 |     0.17 |            11.92 |   19.00 |   4112.00 | 216.42 |\n",
      "| parkinson_motor |  0.15 |     0.15 |     0.15 |            11.97 |   19.00 |   4112.00 | 216.42 |\n",
      "| abalone         |  0.53 |     0.53 |     0.53 |            17.71 |    9.00 |   2923.00 | 324.78 |\n",
      "| crime           |  0.66 |     0.66 |     0.66 |            13.62 |   99.00 |   1395.00 |  14.09 |\n",
      "| airfoil         |  0.51 |     0.51 |     0.51 |            16.59 |    5.00 |   1052.00 | 210.40 |\n",
      "| student         |  0.18 |     0.18 |     0.18 |            12.33 |   39.00 |    730.00 |  18.72 |\n",
      "| concrete        |  0.61 |     0.61 |     0.61 |            15.40 |    8.00 |    721.00 |  90.12 |\n",
      "| forest          | -0.01 |    -0.03 |    -0.01 |             0.47 |   26.43 |    361.00 |  13.66 |\n",
      "| bh              |  0.71 |     0.71 |     0.71 |            11.59 |   13.00 |    354.00 |  27.23 |\n",
      "| facebook        |  0.91 |     0.91 |     0.91 |            14.72 |   17.00 |    346.00 |  20.35 |\n",
      "| diabetes        |  0.49 |     0.49 |     0.49 |            12.13 |   10.00 |    309.00 |  30.90 |\n",
      "| realEstate      |  0.56 |     0.56 |     0.56 |            14.11 |    6.00 |    289.00 |  48.17 |\n",
      "| autompg         |  0.81 |     0.81 |     0.81 |            13.25 |    7.00 |    274.00 |  39.14 |\n",
      "| yacht           |  0.97 |     0.97 |     0.97 |            17.77 |    6.00 |    215.00 |  35.83 |\n",
      "| automobile      |  0.90 |     0.89 |     0.89 |             5.84 |   52.72 |    111.00 |   2.11 |\n",
      "| eye             |  0.50 |     0.45 |     0.22 |             2.59 |  200.00 |     84.00 |   0.42 |\n",
      "| ribo            |  0.64 |     0.64 |     0.64 |             2.35 | 4088.00 |     49.00 |   0.01 |\n",
      "+-----------------+-------+----------+----------+------------------+---------+-----------+--------+\n"
     ]
    }
   ],
   "source": [
    "# Print the results\n",
    "table = {}\n",
    "for data_name, data_result in results.items():\n",
    "    table[data_name] = {}\n",
    "    for estimator_name, estimator_result in data_result.items():\n",
    "        r2 = estimator_result['r2']\n",
    "        ttime = estimator_result['time']\n",
    "        table[data_name][estimator_name] = r2\n",
    "        if estimator_name == 'EM':\n",
    "            EM_time = ttime\n",
    "        elif estimator_name == 'CV_glm':\n",
    "            CV_glm_time = ttime\n",
    "        elif estimator_name == 'CV_fix':\n",
    "            CV_fix_time = ttime\n",
    "    speed_up_ratio = (CV_glm_time + CV_fix_time)/2 / EM_time\n",
    "    table[data_name]['Speed Up Ratio'] = speed_up_ratio\n",
    "    table[data_name]['p'] = estimator_result['p']\n",
    "    table[data_name]['n_train'] = estimator_result['n_train']\n",
    "    table[data_name]['n:p'] = estimator_result['n_train']/estimator_result['p']\n",
    "\n",
    "tdf = pd.DataFrame(table)\n",
    "print(tabulate(tdf.transpose().sort_values('n_train', ascending=False), headers='keys', tablefmt='psql', floatfmt=\".2f\"))"
   ]
  },
  {
   "cell_type": "code",
   "execution_count": null,
   "id": "980f911d",
   "metadata": {},
   "outputs": [],
   "source": []
  },
  {
   "cell_type": "code",
   "execution_count": null,
   "id": "a5479182",
   "metadata": {},
   "outputs": [],
   "source": []
  }
 ],
 "metadata": {
  "kernelspec": {
   "display_name": "Python 3 (ipykernel)",
   "language": "python",
   "name": "python3"
  },
  "language_info": {
   "codemirror_mode": {
    "name": "ipython",
    "version": 3
   },
   "file_extension": ".py",
   "mimetype": "text/x-python",
   "name": "python",
   "nbconvert_exporter": "python",
   "pygments_lexer": "ipython3",
   "version": "3.9.12"
  }
 },
 "nbformat": 4,
 "nbformat_minor": 5
}
